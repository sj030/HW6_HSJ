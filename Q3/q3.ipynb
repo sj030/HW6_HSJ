{
 "cells": [
  {
   "cell_type": "code",
   "execution_count": 58,
   "id": "3cb7089d",
   "metadata": {},
   "outputs": [],
   "source": [
    "# \"제주도에는 여성의 비율이 높다\"라는 명제는 아래의 두가지가 증명 되면 참이라고 하자.\n",
    "# + 행정안전부 제공의 주민등록 인구통계 데이터를 기준으로 한다.\n",
    "# + 제주특별자치도 제주시의 데이터만을 기준으로 분석한다. \n",
    "\n",
    "# 1. 10년동안의 제주 인구 데이터에서 매년 여성과 남성의 수를 조사한다. \n",
    "#    (여성의 수 > 남성의 수) 관계를 만족하는 해가 10년대비 60% (6년) 이상이면 제주도는 여성의 비율이 높다고 할 수 있다. \n",
    "# 2. 전국의 10년동안의 인구 데이터를 조사한다. 전국과 비교했을 때 여성의 비율(여성의 수 / 전체 인구의 수)이 제주도가 더 높다면,  제주도는 여성의 비율이 높다고 할 수 있다.\n",
    "#     여성의 비율이 (제주 > 전국) 관계를 만족하는 해가 10년대비 60% (6년) 이상이면 제주도는 여성의 비율이 높다고 할 수 있다.\n",
    "\n",
    "#최종 결과, 두 가정이 모두 참이면, 제주도에는 여성의 비율이 높다라는 명제가 참이다. \n",
    "caseOne = False\n",
    "caseTwo = False"
   ]
  },
  {
   "cell_type": "code",
   "execution_count": 59,
   "id": "b2b1bd96",
   "metadata": {},
   "outputs": [
    {
     "name": "stdout",
     "output_type": "stream",
     "text": [
      "[[434733, 170157, 217376, 217357, 1.0], [445603, 176076, 223035, 222568, 1.0], [456323, 182714, 228555, 227768, 1.0], [466780, 189092, 234160, 232620, 1.01], [474732, 195176, 238628, 236104, 1.01], [481832, 201218, 242058, 239774, 1.01], [485255, 206016, 243581, 241674, 1.01], [488423, 212892, 244722, 243701, 1.0], [490059, 217615, 245055, 245004, 1.0], [490735, 220573, 245148, 245587, 1.0]]\n"
     ]
    }
   ],
   "source": [
    "#제주 인구 수 데이터 획득\n",
    "import csv\n",
    "f = open('jeju.csv', 'r', encoding='ANSI')\n",
    "data = csv.reader(f, delimiter=',')\n",
    "header1 = next(data)\n",
    "header2 = next(data)\n",
    "temp = []\n",
    "for row in data:\n",
    "    num = len(row)\n",
    "    temp = row\n",
    "    \n",
    "jeju = []\n",
    "for i in range(int(num / 5)):\n",
    "    a = []\n",
    "    a.append(int(temp[i*5])) #총 거주자수\n",
    "    a.append(int(temp[i*5 + 1])) #세대 수\n",
    "    a.append(int(temp[i*5 + 2])) #남자 인구수\n",
    "    a.append(int(temp[i*5 + 3])) #여자 인구수\n",
    "    a.append(float(temp[i*5 + 4])) #남여 비율\n",
    "    jeju.append(a)\n",
    "print(jeju)\n",
    "f.close()"
   ]
  },
  {
   "cell_type": "code",
   "execution_count": 60,
   "id": "2ec90f25",
   "metadata": {},
   "outputs": [
    {
     "name": "stdout",
     "output_type": "stream",
     "text": [
      "1> 여성의 수: 217357 남성의 수: 217376\n",
      "2> 여성의 수: 222568 남성의 수: 223035\n",
      "3> 여성의 수: 227768 남성의 수: 228555\n",
      "4> 여성의 수: 232620 남성의 수: 234160\n",
      "5> 여성의 수: 236104 남성의 수: 238628\n",
      "6> 여성의 수: 239774 남성의 수: 242058\n",
      "7> 여성의 수: 241674 남성의 수: 243581\n",
      "8> 여성의 수: 243701 남성의 수: 244722\n",
      "9> 여성의 수: 245004 남성의 수: 245055\n",
      "10> 여성의 수: 245587 남성의 수: 245148\n"
     ]
    }
   ],
   "source": [
    "#1. (여성의 수 > 남성의 수) 관계를 만족하는 해 찾기.\n",
    "count = 0\n",
    "for i in range(10):\n",
    "    print(str(i+1) + \"> 여성의 수: \" + str(jeju[i][3]) + \" 남성의 수: \" + str(jeju[i][2]))\n",
    "    if(jeju[i][3] > jeju[i][2]):\n",
    "        count += 1"
   ]
  },
  {
   "cell_type": "code",
   "execution_count": 61,
   "id": "ef7afa0f",
   "metadata": {},
   "outputs": [
    {
     "name": "stdout",
     "output_type": "stream",
     "text": [
      "최근 10년 중 여성의 수가 많은 해는 총 1년으로 여성의 수가 더 많다고 할 수 없습니다.\n"
     ]
    }
   ],
   "source": [
    "print(\"최근 10년 중 여성의 수가 많은 해는 총 \" + str(count) + \"년으로\", end=\"\")\n",
    "if(count >= 6): #여성의 수가 많은 해가 6년 이상\n",
    "    print(\" 여성의 수가 더 많습니다.\")\n",
    "    caseOne = True\n",
    "else:\n",
    "    print(\" 여성의 수가 더 많다고 할 수 없습니다.\")\n",
    "    caseOne = False"
   ]
  },
  {
   "cell_type": "code",
   "execution_count": 62,
   "id": "9cecdb34",
   "metadata": {},
   "outputs": [],
   "source": [
    "# 2. 전국의 10년동안의 인구 데이터를 조사한다. 전국과 비교했을 때 여성의 비율(여성의 수 / 전체 인구의 수)이 제주도가 더 높다면,  제주도는 여성의 비율이 높다고 할 수 있다.\n",
    "#     여성의 비율이 (제주 > 전국) 관계를 만족하는 해가 10년대비 60% (6년) 이상이면 제주도는 여성의 비율이 높다고 할 수 있다."
   ]
  },
  {
   "cell_type": "code",
   "execution_count": 63,
   "id": "6627b4a6",
   "metadata": {},
   "outputs": [
    {
     "name": "stdout",
     "output_type": "stream",
     "text": [
      "[[50663727, 20040783, 25330055, 25333672, 1.0], [50862589, 20319658, 25418917, 25443672, 1.0], [51040849, 20595660, 25497198, 25543651, 1.0], [51185094, 20870348, 25558431, 25626663, 1.0], [51276314, 21221082, 25595073, 25681241, 1.0], [51325445, 21633887, 25608849, 25716596, 1.0], [51349402, 22074502, 25609835, 25739567, 0.99], [51349116, 22705906, 25602326, 25746790, 0.99], [51317389, 23224940, 25575878, 25741511, 0.99], [51200910, 23524371, 25504206, 25696704, 0.99]]\n"
     ]
    }
   ],
   "source": [
    "#2-1. 전국의 인구 수 데이터 획득\n",
    "f = open('whole.csv', 'r', encoding='ANSI')\n",
    "data = csv.reader(f, delimiter=',')\n",
    "header = next(data)\n",
    "\n",
    "temp = []\n",
    "for row in data:\n",
    "    num = len(row)\n",
    "    temp = row\n",
    "    \n",
    "whole = []\n",
    "for i in range(int(num / 5)):\n",
    "    a = []\n",
    "    a.append(int(temp[i*5])) #총 거주자수\n",
    "    a.append(int(temp[i*5 + 1])) #세대 수\n",
    "    a.append(int(temp[i*5 + 2])) #남자 인구수\n",
    "    a.append(int(temp[i*5 + 3])) #여자 인구수\n",
    "    a.append(float(temp[i*5 + 4])) #남여 비율\n",
    "    whole.append(a)\n",
    "print(whole)\n",
    "f.close()"
   ]
  },
  {
   "cell_type": "code",
   "execution_count": 64,
   "id": "aca91154",
   "metadata": {},
   "outputs": [
    {
     "name": "stdout",
     "output_type": "stream",
     "text": [
      "1> 제주도: 0.4999781475066305 전국: 0.5000356961500286\n",
      "2> 제주도: 0.49947599096056355 전국: 0.5002433517491609\n",
      "3> 제주도: 0.4991376722190203 전국: 0.5004550570857471\n",
      "4> 제주도: 0.49835040061699304 전국: 0.5006665221714743\n",
      "5> 제주도: 0.49734165803021496 전국: 0.5008402320026357\n",
      "6> 제주도: 0.4976298792940278 전국: 0.5010496450639639\n",
      "7> 제주도: 0.49803505373463436 전국: 0.5012632279534628\n",
      "8> 제주도: 0.4989547994259075 전국: 0.5014066843916066\n",
      "9> 제주도: 0.4999479654490582 전국: 0.501613809697138\n",
      "10> 제주도: 0.5004472882512965 전국: 0.5018798298702113\n"
     ]
    }
   ],
   "source": [
    "#2-2. 최근 10년동안 전국과 제주의 여성의 비율을 비교한다. \n",
    "count = 0\n",
    "for i in range(10):\n",
    "    jejuRate = jeju[i][3] / jeju[i][0]\n",
    "    wholeRate = whole[i][3] / whole[i][0]\n",
    "    print(str(i+1) + \"> 제주도: \" + str(jejuRate) + \" 전국: \" + str(wholeRate))\n",
    "    if(jejuRate > wholeRate):\n",
    "        count += 1"
   ]
  },
  {
   "cell_type": "code",
   "execution_count": 65,
   "id": "838197ef",
   "metadata": {},
   "outputs": [
    {
     "name": "stdout",
     "output_type": "stream",
     "text": [
      "최근 10년 중 제주도에서 여성의 비율이 많은 해는 총 0년으로 여성의 수가 더 많다고 할 수 없습니다.\n"
     ]
    }
   ],
   "source": [
    "print(\"최근 10년 중 제주도에서 여성의 비율이 많은 해는 총 \" + str(count) + \"년으로\", end=\"\")\n",
    "if(count >= 6): #여성의 수가 많은 해가 6년 이상\n",
    "    print(\" 여성의 수가 더 많습니다.\")\n",
    "    caseTwo = True\n",
    "else:\n",
    "    print(\" 여성의 수가 더 많다고 할 수 없습니다.\")\n",
    "    caseTwo = False"
   ]
  },
  {
   "cell_type": "code",
   "execution_count": 66,
   "id": "46785615",
   "metadata": {},
   "outputs": [
    {
     "name": "stdout",
     "output_type": "stream",
     "text": [
      "초기의 두 가정이 모두 참이 아니므로, 제주도에서 여성이 많다고 할 수 없다. \n"
     ]
    }
   ],
   "source": [
    "if caseOne == True & caseTwo == True:\n",
    "    print(\"초기의 두 가정이 모두 참이므로, 제주도에서 여성이 많다고 할 수 있다. \")\n",
    "else:\n",
    "    print(\"초기의 두 가정이 모두 참이 아니므로, 제주도에서 여성이 많다고 할 수 없다. \")"
   ]
  },
  {
   "cell_type": "code",
   "execution_count": null,
   "id": "bcbbf5dd",
   "metadata": {},
   "outputs": [],
   "source": []
  }
 ],
 "metadata": {
  "kernelspec": {
   "display_name": "Python 3 (ipykernel)",
   "language": "python",
   "name": "python3"
  },
  "language_info": {
   "codemirror_mode": {
    "name": "ipython",
    "version": 3
   },
   "file_extension": ".py",
   "mimetype": "text/x-python",
   "name": "python",
   "nbconvert_exporter": "python",
   "pygments_lexer": "ipython3",
   "version": "3.9.13"
  }
 },
 "nbformat": 4,
 "nbformat_minor": 5
}
